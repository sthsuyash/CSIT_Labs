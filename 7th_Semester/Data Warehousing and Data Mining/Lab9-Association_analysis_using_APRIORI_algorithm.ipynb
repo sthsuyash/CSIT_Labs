{
 "cells": [
  {
   "cell_type": "markdown",
   "metadata": {},
   "source": [
    "# Lab 9: Association Analysis using APRIORI Algorithm\n"
   ]
  },
  {
   "cell_type": "markdown",
   "metadata": {
    "id": "qSEESJGp3YMb"
   },
   "source": [
    "## Association Analysis\n",
    "\n",
    "**Association analysis** is a data mining technique used to discover interesting relationships, patterns, or correlations among a set of items in large datasets. It is commonly applied in market basket analysis to identify sets of products frequently purchased together.\n",
    "\n",
    "## Support\n",
    "\n",
    "**Support** is a measure that indicates how frequently a particular item or item set appears in a dataset. It is defined as the proportion of transactions that contain the item or item set. In the context of association rules, support helps to determine the significance of an item set.\n",
    "\n",
    "## Confidence\n",
    "\n",
    "**Confidence** is a measure of the reliability of an association rule. It is defined as the proportion of transactions containing the antecedent (the \"if\" part of the rule) that also contain the consequent (the \"then\" part of the rule). High confidence indicates a strong likelihood that the rule is valid.\n",
    "\n",
    "## The Apriori Principle\n",
    "\n",
    "The **Apriori principle** states that if an item set is frequent (meets the minimum support threshold), then all of its subsets must also be frequent. This principle allows for the efficient identification of frequent item sets by pruning the search space, reducing the number of candidate item sets that need to be examined.\n",
    "\n",
    "## Candidate Set\n",
    "\n",
    "A **candidate set** is a collection of item sets that are being considered for frequent item set generation. The candidate set is generated based on previous frequent item sets, and it is evaluated against the minimum support threshold to determine which item sets are frequent.\n",
    "\n",
    "## Min Support Threshold\n",
    "\n",
    "The **minimum support threshold** is a user-defined parameter that specifies the minimum frequency an item set must have to be considered frequent. It helps in filtering out infrequent item sets and reduces the computational burden of the association analysis process.\n",
    "\n",
    "## Frequent Item Set\n",
    "\n",
    "A **frequent item set** is a set of items that appears in a dataset with a frequency equal to or greater than the minimum support threshold. Frequent item sets are the basis for generating association rules, which reveal relationships between items in the dataset.\n"
   ]
  },
  {
   "cell_type": "markdown",
   "metadata": {
    "id": "_9iIHGqW3YMc"
   },
   "source": [
    "## Apriori Algorithm:\n",
    "\n",
    "Notation = $C_{k}$\n",
    "\n",
    "Candidate itemset of size  k  and $L_{k}$ =  frequent itemset of size k \n",
    "\n",
    "$C_{k+1}$ = candidates generated from $L_{k}$\n",
    "\n",
    "$L_{k +1}$ = candidates in  $C_{k+1}$ satisfying min_support"
   ]
  },
  {
   "cell_type": "markdown",
   "metadata": {},
   "source": [
    "1. Read the transaction database and get support for each itemset, compare the support with minimum support to generate frequent itemset at level 1.\n",
    "2. Use join to generate a set of candidate k-item sets of length $K+1$ ($C_{k+1}$) at the next level.\n",
    "3. Generate frequent item sets of length $K+1$ ($L_{k+1}$) at the next level using minimum support. In this step:\n",
    "   - Scan the original database to count support for $k+1$ candidates\n",
    "   - Prune candidates below minsup\n",
    "4. Repeat steps 2 and 3 until no frequent item sets can be generated.\n",
    "5. Generate rules from frequent itemsets from level 2 onwards using minimum confidence.\n"
   ]
  },
  {
   "cell_type": "markdown",
   "metadata": {
    "id": "4ORBIeol3YMd"
   },
   "source": [
    "## Implement apriori algorithm for market basket analysis\n"
   ]
  },
  {
   "cell_type": "code",
   "execution_count": 1,
   "metadata": {
    "id": "1OT1UYf83YMf"
   },
   "outputs": [],
   "source": [
    "import pandas as pd\n",
    "from apyori import apriori"
   ]
  },
  {
   "cell_type": "code",
   "execution_count": 2,
   "metadata": {
    "id": "JFiUGSLJ3YMf",
    "outputId": "b6f4a024-e28e-4901-b781-ef686bb5e9f6"
   },
   "outputs": [
    {
     "data": {
      "text/html": [
       "<div>\n",
       "<style scoped>\n",
       "    .dataframe tbody tr th:only-of-type {\n",
       "        vertical-align: middle;\n",
       "    }\n",
       "\n",
       "    .dataframe tbody tr th {\n",
       "        vertical-align: top;\n",
       "    }\n",
       "\n",
       "    .dataframe thead th {\n",
       "        text-align: right;\n",
       "    }\n",
       "</style>\n",
       "<table border=\"1\" class=\"dataframe\">\n",
       "  <thead>\n",
       "    <tr style=\"text-align: right;\">\n",
       "      <th></th>\n",
       "      <th>0</th>\n",
       "      <th>1</th>\n",
       "      <th>2</th>\n",
       "      <th>3</th>\n",
       "      <th>4</th>\n",
       "      <th>5</th>\n",
       "    </tr>\n",
       "  </thead>\n",
       "  <tbody>\n",
       "    <tr>\n",
       "      <th>0</th>\n",
       "      <td>Wine</td>\n",
       "      <td>Chips</td>\n",
       "      <td>Bread</td>\n",
       "      <td>Butter</td>\n",
       "      <td>Milk</td>\n",
       "      <td>Apple</td>\n",
       "    </tr>\n",
       "    <tr>\n",
       "      <th>1</th>\n",
       "      <td>Wine</td>\n",
       "      <td>NaN</td>\n",
       "      <td>Bread</td>\n",
       "      <td>Butter</td>\n",
       "      <td>Milk</td>\n",
       "      <td>NaN</td>\n",
       "    </tr>\n",
       "    <tr>\n",
       "      <th>2</th>\n",
       "      <td>NaN</td>\n",
       "      <td>NaN</td>\n",
       "      <td>Bread</td>\n",
       "      <td>Butter</td>\n",
       "      <td>Milk</td>\n",
       "      <td>NaN</td>\n",
       "    </tr>\n",
       "    <tr>\n",
       "      <th>3</th>\n",
       "      <td>NaN</td>\n",
       "      <td>Chips</td>\n",
       "      <td>NaN</td>\n",
       "      <td>Butter</td>\n",
       "      <td>NaN</td>\n",
       "      <td>Apple</td>\n",
       "    </tr>\n",
       "    <tr>\n",
       "      <th>4</th>\n",
       "      <td>Wine</td>\n",
       "      <td>Chips</td>\n",
       "      <td>Bread</td>\n",
       "      <td>Butter</td>\n",
       "      <td>Milk</td>\n",
       "      <td>Apple</td>\n",
       "    </tr>\n",
       "  </tbody>\n",
       "</table>\n",
       "</div>"
      ],
      "text/plain": [
       "      0      1      2       3     4      5\n",
       "0  Wine  Chips  Bread  Butter  Milk  Apple\n",
       "1  Wine    NaN  Bread  Butter  Milk    NaN\n",
       "2   NaN    NaN  Bread  Butter  Milk    NaN\n",
       "3   NaN  Chips    NaN  Butter   NaN  Apple\n",
       "4  Wine  Chips  Bread  Butter  Milk  Apple"
      ]
     },
     "execution_count": 2,
     "metadata": {},
     "output_type": "execute_result"
    }
   ],
   "source": [
    "data_frame = pd.read_csv('dataset/market_basket.csv', header=None)\n",
    "data_frame.head()"
   ]
  },
  {
   "cell_type": "code",
   "execution_count": 3,
   "metadata": {
    "id": "9ZkqKj643YMf",
    "outputId": "5aea67ec-f62d-4de5-da2d-f07df173dfaf"
   },
   "outputs": [
    {
     "data": {
      "text/plain": [
       "(22, 6)"
      ]
     },
     "execution_count": 3,
     "metadata": {},
     "output_type": "execute_result"
    }
   ],
   "source": [
    "data_frame.shape"
   ]
  },
  {
   "cell_type": "markdown",
   "metadata": {
    "id": "cKgj44vW3YMg"
   },
   "source": [
    "## Convert Pandas dataframe into nested lists\n"
   ]
  },
  {
   "cell_type": "code",
   "execution_count": 4,
   "metadata": {
    "id": "L6mvU1fX3YMg",
    "outputId": "5a49f3d8-6f00-42cc-d3d7-f459ec1f9aae"
   },
   "outputs": [
    {
     "name": "stdout",
     "output_type": "stream",
     "text": [
      "[['Wine', 'Chips', 'Bread', 'Butter', 'Milk', 'Apple'], ['Wine', 'nan', 'Bread', 'Butter', 'Milk', 'nan'], ['nan', 'nan', 'Bread', 'Butter', 'Milk', 'nan'], ['nan', 'Chips', 'nan', 'Butter', 'nan', 'Apple'], ['Wine', 'Chips', 'Bread', 'Butter', 'Milk', 'Apple'], ['Wine', 'Chips', 'nan', 'nan', 'Milk', 'nan'], ['Wine', 'Chips', 'Bread', 'Butter', 'nan', 'Apple'], ['Wine', 'Chips', 'nan', 'nan', 'Milk', 'nan'], ['Wine', 'nan', 'Bread', 'nan', 'nan', 'Apple'], ['nan', 'nan', 'Bread', 'Butter', 'Milk', 'nan'], ['Wine', 'Chips', 'Bread', 'Butter', 'nan', 'Apple'], ['Wine', 'nan', 'nan', 'Butter', 'Milk', 'Apple'], ['Wine', 'Chips', 'Bread', 'Butter', 'Milk', 'Apple'], ['Wine', 'nan', 'Bread', 'nan', 'Milk', 'nan'], ['Wine', 'nan', 'Bread', 'Butter', 'Milk', 'Apple'], ['Wine', 'Chips', 'Bread', 'Butter', 'Milk', 'Apple'], ['nan', 'Chips', 'Bread', 'Butter', 'Milk', 'Apple'], ['nan', 'Chips', 'nan', 'Butter', 'Milk', 'Apple'], ['Wine', 'Chips', 'Bread', 'Butter', 'Milk', 'Apple'], ['Wine', 'nan', 'Bread', 'Butter', 'Milk', 'Apple'], ['Wine', 'Chips', 'Bread', 'nan', 'Milk', 'Apple'], ['nan', 'Chips', 'nan', 'nan', 'nan', 'nan']]\n"
     ]
    }
   ],
   "source": [
    "lsts = []\n",
    "for i in range(0, 22):\n",
    "    lsts.append([str(data_frame.values[i, j]) for j in range(0, 6)])\n",
    "\n",
    "print(lsts)"
   ]
  },
  {
   "cell_type": "markdown",
   "metadata": {
    "id": "Tu2tQ8GG3YMg"
   },
   "source": [
    "## Goal of Association Rule Mining and its Application to any buisness\n",
    "\n",
    "When you apply Association Rule Mining on a given set of transactions T your goal will be to find all rules with:\n",
    "\n",
    "1. Support greater than or equal to min_support\n",
    "2. Confidence greater than or equal to min_confidence\n",
    "\n",
    "One of the algorithm for Association Rule Mining implemented here is \"APRIORI\"\n"
   ]
  },
  {
   "cell_type": "markdown",
   "metadata": {
    "id": "MSD3nJkw3YMg"
   },
   "source": [
    "## Support, Confidence, Strong Rules, and Lift in Association Analysis\n",
    "\n",
    "### Support\n",
    "\n",
    "Support defines the popularity of an item within the dataset. It is calculated as the proportion of transactions that contain the item or item set.\n",
    "\n",
    "### Confidence\n",
    "\n",
    "Confidence indicates the likelihood of how often items **X** and **Y** occur together, given the number of times **X** has occurred. It helps assess the strength of the association rule.\n",
    "\n",
    "### Strong Rules\n",
    "\n",
    "A rule **A ⇒ B** is considered a strong rule if it satisfies the minimum support (min_sup) and minimum confidence (min_confidence) thresholds. Strong rules indicate a reliable relationship between item sets.\n",
    "\n",
    "### Lift\n",
    "\n",
    "Lift measures the correlation between **A** and **B** in the rule **A ⇒ B**. It shows how one item set **A** affects the item set **B**. It is calculated as:\n",
    "\n",
    "$$\n",
    "\\text{Lift}(A \\Rightarrow B) = \\frac{\\text{Support}(A \\cap B)}{\\text{Support}(A) \\times \\text{Support}(B)}\n",
    "$$\n",
    "\n",
    "If the lift is greater than **1**, then **A** and **B** are dependent on each other, and the degree of dependence is indicated by the lift value.\n",
    "\n",
    "### Interpretation of Lift\n",
    "\n",
    "- Lift indicates the certainty of a rule. It shows how much the sale of item **X** has increased when item **Y** is sold.\n",
    "\n",
    "The formula for lift can also be expressed as:\n",
    "\n",
    "$$\n",
    "\\text{Lift}(X \\Rightarrow Y) = \\frac{\\text{Confidence}(X, Y)}{\\text{Support}(Y)}\n",
    "$$\n",
    "\n",
    "### Example\n",
    "\n",
    "For the rule **X ⇒ Y** with:\n",
    "\n",
    "- **Support = 60%**: This means that **60%** of all transactions show that **X** and **Y** have been bought together.\n",
    "- **Confidence = 90%**: This indicates that **90%** of the customers who bought **X** also bought **Y**.\n"
   ]
  },
  {
   "cell_type": "markdown",
   "metadata": {
    "id": "j7ATqJeR3YMh"
   },
   "source": [
    "## Make APRIORI MODEL for RULE GENERATION\n"
   ]
  },
  {
   "cell_type": "code",
   "execution_count": 5,
   "metadata": {
    "id": "CtT0G0A93YMh"
   },
   "outputs": [],
   "source": [
    "asscsn_rules = apriori(lsts, min_support=0.50, min_confidence=0.7, min_lift=1.2, min_length=2)\n",
    "asscsn_results = list(asscsn_rules)"
   ]
  },
  {
   "cell_type": "code",
   "execution_count": 6,
   "metadata": {
    "id": "ZT7vw52m3YMh",
    "outputId": "9883f9f1-fafe-449d-99d6-651cdcde75ad"
   },
   "outputs": [
    {
     "name": "stdout",
     "output_type": "stream",
     "text": [
      "[\n",
      "    [\n",
      "        \"frozenset({'Wine', 'Apple', 'Bread'})\",\n",
      "        0.5,\n",
      "        [\n",
      "            [\n",
      "                \"frozenset({'Apple'})\",\n",
      "                \"frozenset({'Wine', 'Bread'})\",\n",
      "                0.7333333333333334,\n",
      "                1.241025641025641\n",
      "            ],\n",
      "            [\n",
      "                \"frozenset({'Apple', 'Bread'})\",\n",
      "                \"frozenset({'Wine'})\",\n",
      "                0.9166666666666667,\n",
      "                1.2604166666666667\n",
      "            ],\n",
      "            [\n",
      "                \"frozenset({'Wine', 'Apple'})\",\n",
      "                \"frozenset({'Bread'})\",\n",
      "                0.9166666666666667,\n",
      "                1.2604166666666667\n",
      "            ],\n",
      "            [\n",
      "                \"frozenset({'Wine', 'Bread'})\",\n",
      "                \"frozenset({'Apple'})\",\n",
      "                0.8461538461538461,\n",
      "                1.241025641025641\n",
      "            ]\n",
      "        ]\n",
      "    ]\n",
      "]\n"
     ]
    }
   ],
   "source": [
    "import json\n",
    "\n",
    "print(json.dumps(asscsn_results, default=str, indent=4))"
   ]
  },
  {
   "cell_type": "markdown",
   "metadata": {},
   "source": [
    "## Result Interpretation - Market Basket Analysis\n",
    "\n",
    "### Consumer Behavior Insights\n",
    "\n",
    "The consumer behavior insights derived from the given dataset and its application are interpreted as follows:"
   ]
  },
  {
   "cell_type": "markdown",
   "metadata": {
    "id": "w7DesPuv3YMi"
   },
   "source": [
    "#### Frequent Item Set\n",
    "\n",
    "The frequent item set identified from the market basket dataset analysis is:\n",
    "\n",
    "- {‘Wine’, ‘Apple’, ‘Bread’}, support = 0.5\n",
    "  - This means these items are bought together **50%** of the time across all transactions.\n"
   ]
  },
  {
   "cell_type": "markdown",
   "metadata": {},
   "source": [
    "#### Strong Association Rules\n",
    "\n",
    "1. Rule 1: {'Apple'} → {'Bread', 'Wine'}\n",
    "\n",
    "- **Confidence**: 0.7333 (or 73.33%)\n",
    "  - This indicates that 73.33% of the consumers who bought **Apple** also bought **Bread** & **Wine**.\n",
    "- **Lift**: 1.241\n",
    "  - This means that **Bread** & **Wine** is 1.24 times more likely to be bought by customers who buy **Apple**.\n",
    "  - A lift greater than 1 indicates a strong correlation between the items.\n",
    "\n",
    "2. Rule 2: {'Apple', 'Bread'} → {'Wine'}\n",
    "\n",
    "- **Confidence**: 0.9167 (or 91.67%)\n",
    "  - This implies that 91.67% of the customers who bought **Apple** & **Bread** also bought **Wine**.\n",
    "- **Lift**: 1.260\n",
    "  - This suggests a strong association, indicating that customers who buy both **Apple** & **Bread** are highly likely to also purchase **Wine**.\n",
    "\n",
    "3. Rule 3: {'Apple', 'Wine'} → {'Bread'}\n",
    "\n",
    "- **Confidence**: 0.9167 (or 91.67%)\n",
    "  - This means that 91.67% of the customers who bought **Apple** & **Wine** also bought **Bread**.\n",
    "- **Lift**: 1.260\n",
    "  - Similar to Rule 2, this indicates a strong correlation, suggesting that customers who buy **Apple** & **Wine** are also very likely to buy **Bread**\n",
    "\n",
    "4. Rule 4: {'Bread', 'Wine'} → {'Apple'}\n",
    "\n",
    "- **Confidence**: 0.8462 (or 84.62%)\n",
    "  - This implies that 84.62% of the customers who bought **Bread** & **Wine** also bought **Apple**.\n",
    "- **Lift**: 1.241\n",
    "  - This indicates that customers who purchase **Bread** & **Wine** are also likely to buy **Apple**, with a significant correlation.\n"
   ]
  }
 ],
 "metadata": {
  "colab": {
   "provenance": []
  },
  "kernelspec": {
   "display_name": ".venv",
   "language": "python",
   "name": "python3"
  },
  "language_info": {
   "codemirror_mode": {
    "name": "ipython",
    "version": 3
   },
   "file_extension": ".py",
   "mimetype": "text/x-python",
   "name": "python",
   "nbconvert_exporter": "python",
   "pygments_lexer": "ipython3",
   "version": "3.12.4"
  }
 },
 "nbformat": 4,
 "nbformat_minor": 0
}
