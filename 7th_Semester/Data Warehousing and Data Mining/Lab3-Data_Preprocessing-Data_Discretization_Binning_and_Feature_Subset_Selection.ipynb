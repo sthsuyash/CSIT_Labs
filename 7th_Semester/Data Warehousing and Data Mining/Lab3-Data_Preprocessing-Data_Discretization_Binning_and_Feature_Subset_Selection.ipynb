{
 "cells": [
  {
   "cell_type": "markdown",
   "metadata": {},
   "source": [
    "# Lab 3: Data Preprocessing - Data Discretion, Binning and Feature Subset Selection"
   ]
  },
  {
   "cell_type": "markdown",
   "metadata": {
    "id": "7ISIM0VX9hpy"
   },
   "source": [
    "## Data Discretization\n",
    "\n",
    "**Definition**: The process of converting continuous data into discrete intervals or categories.  \n",
    "**Importance**: Simplifies data, makes patterns easier to identify, and helps some machine learning models perform better.\n",
    "\n",
    "## Data Binning\n",
    "  \n",
    "**Definition**: A specific form of discretization that groups continuous values into \"bins\" or intervals.  \n",
    "**Importance**: Reduces noise in the data and helps detect trends by organizing values into broader categories.\n",
    "\n",
    "## Feature Subset Selection\n",
    "\n",
    "**Definition**: The process of selecting a subset of relevant features from the dataset while eliminating irrelevant or redundant ones.  \n",
    "**Importance**: Improves model performance, reduces overfitting, and speeds up computation by focusing on the most important data features."
   ]
  },
  {
   "cell_type": "markdown",
   "metadata": {
    "id": "IwT_WhOo9hp3"
   },
   "source": [
    "####  Data Bining can be achieved by method `cut()`, which will group data and apply user defined labels  \n",
    "\n",
    "Syntax: `pd.cut(x, bins, labels = None)`"
   ]
  },
  {
   "cell_type": "code",
   "execution_count": 1,
   "metadata": {
    "id": "9e_-Te4F9hp5",
    "outputId": "7fca74c3-0ad8-4674-e865-0caed513b4ac"
   },
   "outputs": [],
   "source": [
    "import pandas as pd\n",
    "import matplotlib.pyplot as plt\n",
    "import numpy as np\n",
    "import seaborn as sns"
   ]
  },
  {
   "cell_type": "code",
   "execution_count": 2,
   "metadata": {
    "id": "tPGUDkY79hp8",
    "outputId": "3e11716c-28dc-41ed-9be6-9f6f34ec42ad"
   },
   "outputs": [
    {
     "data": {
      "text/html": [
       "<div>\n",
       "<style scoped>\n",
       "    .dataframe tbody tr th:only-of-type {\n",
       "        vertical-align: middle;\n",
       "    }\n",
       "\n",
       "    .dataframe tbody tr th {\n",
       "        vertical-align: top;\n",
       "    }\n",
       "\n",
       "    .dataframe thead th {\n",
       "        text-align: right;\n",
       "    }\n",
       "</style>\n",
       "<table border=\"1\" class=\"dataframe\">\n",
       "  <thead>\n",
       "    <tr style=\"text-align: right;\">\n",
       "      <th></th>\n",
       "      <th>pregnant</th>\n",
       "      <th>glucose</th>\n",
       "      <th>bp</th>\n",
       "      <th>skin</th>\n",
       "      <th>insulin</th>\n",
       "      <th>bmi</th>\n",
       "      <th>pedigree</th>\n",
       "      <th>age</th>\n",
       "      <th>Diabetic</th>\n",
       "    </tr>\n",
       "  </thead>\n",
       "  <tbody>\n",
       "    <tr>\n",
       "      <th>0</th>\n",
       "      <td>1</td>\n",
       "      <td>85.0</td>\n",
       "      <td>66.0</td>\n",
       "      <td>29.000000</td>\n",
       "      <td>125.0</td>\n",
       "      <td>26.6</td>\n",
       "      <td>0.351</td>\n",
       "      <td>31</td>\n",
       "      <td>0</td>\n",
       "    </tr>\n",
       "    <tr>\n",
       "      <th>1</th>\n",
       "      <td>8</td>\n",
       "      <td>183.0</td>\n",
       "      <td>64.0</td>\n",
       "      <td>29.142593</td>\n",
       "      <td>125.0</td>\n",
       "      <td>23.3</td>\n",
       "      <td>0.672</td>\n",
       "      <td>32</td>\n",
       "      <td>1</td>\n",
       "    </tr>\n",
       "    <tr>\n",
       "      <th>2</th>\n",
       "      <td>1</td>\n",
       "      <td>89.0</td>\n",
       "      <td>66.0</td>\n",
       "      <td>23.000000</td>\n",
       "      <td>94.0</td>\n",
       "      <td>28.1</td>\n",
       "      <td>0.167</td>\n",
       "      <td>21</td>\n",
       "      <td>0</td>\n",
       "    </tr>\n",
       "    <tr>\n",
       "      <th>3</th>\n",
       "      <td>0</td>\n",
       "      <td>137.0</td>\n",
       "      <td>40.0</td>\n",
       "      <td>35.000000</td>\n",
       "      <td>168.0</td>\n",
       "      <td>43.1</td>\n",
       "      <td>2.288</td>\n",
       "      <td>33</td>\n",
       "      <td>1</td>\n",
       "    </tr>\n",
       "    <tr>\n",
       "      <th>4</th>\n",
       "      <td>5</td>\n",
       "      <td>116.0</td>\n",
       "      <td>74.0</td>\n",
       "      <td>29.142593</td>\n",
       "      <td>125.0</td>\n",
       "      <td>25.6</td>\n",
       "      <td>0.201</td>\n",
       "      <td>30</td>\n",
       "      <td>0</td>\n",
       "    </tr>\n",
       "  </tbody>\n",
       "</table>\n",
       "</div>"
      ],
      "text/plain": [
       "   pregnant  glucose    bp       skin  insulin   bmi  pedigree  age  Diabetic\n",
       "0         1     85.0  66.0  29.000000    125.0  26.6     0.351   31         0\n",
       "1         8    183.0  64.0  29.142593    125.0  23.3     0.672   32         1\n",
       "2         1     89.0  66.0  23.000000     94.0  28.1     0.167   21         0\n",
       "3         0    137.0  40.0  35.000000    168.0  43.1     2.288   33         1\n",
       "4         5    116.0  74.0  29.142593    125.0  25.6     0.201   30         0"
      ]
     },
     "execution_count": 2,
     "metadata": {},
     "output_type": "execute_result"
    }
   ],
   "source": [
    "check_glucose_level_data = pd.read_csv('dataset/imputed_data_diabetes.csv')\n",
    "check_glucose_level_data.head()"
   ]
  },
  {
   "cell_type": "code",
   "execution_count": 3,
   "metadata": {
    "id": "tti8itDn9hp9",
    "outputId": "df66c4c4-6613-4805-a8e9-5059d1666919"
   },
   "outputs": [
    {
     "name": "stdout",
     "output_type": "stream",
     "text": [
      "Maximum Value: 199.0\n",
      "Minimum Value: 44.0\n"
     ]
    }
   ],
   "source": [
    "print(\"Maximum Value:\", check_glucose_level_data['glucose'].max())\n",
    "print(\"Minimum Value:\", check_glucose_level_data['glucose'].min())"
   ]
  },
  {
   "cell_type": "markdown",
   "metadata": {
    "id": "z55xtOqM9hp-"
   },
   "source": [
    "#### Create two buckets for glucose values of 0-140 and 140-199"
   ]
  },
  {
   "cell_type": "code",
   "execution_count": 4,
   "metadata": {
    "id": "bkhWUypa9hp-",
    "outputId": "4c86535d-7777-4697-f770-7270a2383d3d"
   },
   "outputs": [
    {
     "data": {
      "text/html": [
       "<div>\n",
       "<style scoped>\n",
       "    .dataframe tbody tr th:only-of-type {\n",
       "        vertical-align: middle;\n",
       "    }\n",
       "\n",
       "    .dataframe tbody tr th {\n",
       "        vertical-align: top;\n",
       "    }\n",
       "\n",
       "    .dataframe thead th {\n",
       "        text-align: right;\n",
       "    }\n",
       "</style>\n",
       "<table border=\"1\" class=\"dataframe\">\n",
       "  <thead>\n",
       "    <tr style=\"text-align: right;\">\n",
       "      <th></th>\n",
       "      <th>pregnant</th>\n",
       "      <th>glucose</th>\n",
       "      <th>bp</th>\n",
       "      <th>skin</th>\n",
       "      <th>insulin</th>\n",
       "      <th>bmi</th>\n",
       "      <th>pedigree</th>\n",
       "      <th>age</th>\n",
       "      <th>Diabetic</th>\n",
       "      <th>bin</th>\n",
       "    </tr>\n",
       "  </thead>\n",
       "  <tbody>\n",
       "    <tr>\n",
       "      <th>0</th>\n",
       "      <td>1</td>\n",
       "      <td>85.0</td>\n",
       "      <td>66.0</td>\n",
       "      <td>29.000000</td>\n",
       "      <td>125.0</td>\n",
       "      <td>26.6</td>\n",
       "      <td>0.351</td>\n",
       "      <td>31</td>\n",
       "      <td>0</td>\n",
       "      <td>(0, 140]</td>\n",
       "    </tr>\n",
       "    <tr>\n",
       "      <th>1</th>\n",
       "      <td>8</td>\n",
       "      <td>183.0</td>\n",
       "      <td>64.0</td>\n",
       "      <td>29.142593</td>\n",
       "      <td>125.0</td>\n",
       "      <td>23.3</td>\n",
       "      <td>0.672</td>\n",
       "      <td>32</td>\n",
       "      <td>1</td>\n",
       "      <td>(140, 199]</td>\n",
       "    </tr>\n",
       "    <tr>\n",
       "      <th>2</th>\n",
       "      <td>1</td>\n",
       "      <td>89.0</td>\n",
       "      <td>66.0</td>\n",
       "      <td>23.000000</td>\n",
       "      <td>94.0</td>\n",
       "      <td>28.1</td>\n",
       "      <td>0.167</td>\n",
       "      <td>21</td>\n",
       "      <td>0</td>\n",
       "      <td>(0, 140]</td>\n",
       "    </tr>\n",
       "    <tr>\n",
       "      <th>3</th>\n",
       "      <td>0</td>\n",
       "      <td>137.0</td>\n",
       "      <td>40.0</td>\n",
       "      <td>35.000000</td>\n",
       "      <td>168.0</td>\n",
       "      <td>43.1</td>\n",
       "      <td>2.288</td>\n",
       "      <td>33</td>\n",
       "      <td>1</td>\n",
       "      <td>(0, 140]</td>\n",
       "    </tr>\n",
       "    <tr>\n",
       "      <th>4</th>\n",
       "      <td>5</td>\n",
       "      <td>116.0</td>\n",
       "      <td>74.0</td>\n",
       "      <td>29.142593</td>\n",
       "      <td>125.0</td>\n",
       "      <td>25.6</td>\n",
       "      <td>0.201</td>\n",
       "      <td>30</td>\n",
       "      <td>0</td>\n",
       "      <td>(0, 140]</td>\n",
       "    </tr>\n",
       "  </tbody>\n",
       "</table>\n",
       "</div>"
      ],
      "text/plain": [
       "   pregnant  glucose    bp       skin  insulin   bmi  pedigree  age  Diabetic  \\\n",
       "0         1     85.0  66.0  29.000000    125.0  26.6     0.351   31         0   \n",
       "1         8    183.0  64.0  29.142593    125.0  23.3     0.672   32         1   \n",
       "2         1     89.0  66.0  23.000000     94.0  28.1     0.167   21         0   \n",
       "3         0    137.0  40.0  35.000000    168.0  43.1     2.288   33         1   \n",
       "4         5    116.0  74.0  29.142593    125.0  25.6     0.201   30         0   \n",
       "\n",
       "          bin  \n",
       "0    (0, 140]  \n",
       "1  (140, 199]  \n",
       "2    (0, 140]  \n",
       "3    (0, 140]  \n",
       "4    (0, 140]  "
      ]
     },
     "execution_count": 4,
     "metadata": {},
     "output_type": "execute_result"
    }
   ],
   "source": [
    "check_glucose_level_data['bin'] = pd.cut(check_glucose_level_data['glucose'], bins = [0,140,199])\n",
    "check_glucose_level_data.head()"
   ]
  },
  {
   "cell_type": "markdown",
   "metadata": {
    "id": "tV5Gv2L19hp_"
   },
   "source": [
    "Above code and table shows conversion of glucose attribute value(continuous) in the 2nd column to its corresponding specific bin size at the right most part."
   ]
  },
  {
   "cell_type": "markdown",
   "metadata": {
    "id": "OTWUSBSl9hp_"
   },
   "source": [
    "#### After creating two buckets for different insulin ranges, create one labels \"Normal\" for glucose range of 0-140 and \"Prediabetic or Risky\" for range of 140-199 as in below code and tables"
   ]
  },
  {
   "cell_type": "code",
   "execution_count": 5,
   "metadata": {
    "id": "aqiK-Wm_9hqA",
    "outputId": "6a7ce62e-2162-4fff-8d83-784433a89501"
   },
   "outputs": [
    {
     "data": {
      "text/html": [
       "<div>\n",
       "<style scoped>\n",
       "    .dataframe tbody tr th:only-of-type {\n",
       "        vertical-align: middle;\n",
       "    }\n",
       "\n",
       "    .dataframe tbody tr th {\n",
       "        vertical-align: top;\n",
       "    }\n",
       "\n",
       "    .dataframe thead th {\n",
       "        text-align: right;\n",
       "    }\n",
       "</style>\n",
       "<table border=\"1\" class=\"dataframe\">\n",
       "  <thead>\n",
       "    <tr style=\"text-align: right;\">\n",
       "      <th></th>\n",
       "      <th>pregnant</th>\n",
       "      <th>glucose</th>\n",
       "      <th>bp</th>\n",
       "      <th>skin</th>\n",
       "      <th>insulin</th>\n",
       "      <th>bmi</th>\n",
       "      <th>pedigree</th>\n",
       "      <th>age</th>\n",
       "      <th>Diabetic</th>\n",
       "      <th>bin</th>\n",
       "    </tr>\n",
       "  </thead>\n",
       "  <tbody>\n",
       "    <tr>\n",
       "      <th>0</th>\n",
       "      <td>1</td>\n",
       "      <td>85.0</td>\n",
       "      <td>66.0</td>\n",
       "      <td>29.000000</td>\n",
       "      <td>125.0</td>\n",
       "      <td>26.6</td>\n",
       "      <td>0.351</td>\n",
       "      <td>31</td>\n",
       "      <td>0</td>\n",
       "      <td>Normal</td>\n",
       "    </tr>\n",
       "    <tr>\n",
       "      <th>1</th>\n",
       "      <td>8</td>\n",
       "      <td>183.0</td>\n",
       "      <td>64.0</td>\n",
       "      <td>29.142593</td>\n",
       "      <td>125.0</td>\n",
       "      <td>23.3</td>\n",
       "      <td>0.672</td>\n",
       "      <td>32</td>\n",
       "      <td>1</td>\n",
       "      <td>Prediabetic or Risky</td>\n",
       "    </tr>\n",
       "    <tr>\n",
       "      <th>2</th>\n",
       "      <td>1</td>\n",
       "      <td>89.0</td>\n",
       "      <td>66.0</td>\n",
       "      <td>23.000000</td>\n",
       "      <td>94.0</td>\n",
       "      <td>28.1</td>\n",
       "      <td>0.167</td>\n",
       "      <td>21</td>\n",
       "      <td>0</td>\n",
       "      <td>Normal</td>\n",
       "    </tr>\n",
       "    <tr>\n",
       "      <th>3</th>\n",
       "      <td>0</td>\n",
       "      <td>137.0</td>\n",
       "      <td>40.0</td>\n",
       "      <td>35.000000</td>\n",
       "      <td>168.0</td>\n",
       "      <td>43.1</td>\n",
       "      <td>2.288</td>\n",
       "      <td>33</td>\n",
       "      <td>1</td>\n",
       "      <td>Normal</td>\n",
       "    </tr>\n",
       "    <tr>\n",
       "      <th>4</th>\n",
       "      <td>5</td>\n",
       "      <td>116.0</td>\n",
       "      <td>74.0</td>\n",
       "      <td>29.142593</td>\n",
       "      <td>125.0</td>\n",
       "      <td>25.6</td>\n",
       "      <td>0.201</td>\n",
       "      <td>30</td>\n",
       "      <td>0</td>\n",
       "      <td>Normal</td>\n",
       "    </tr>\n",
       "  </tbody>\n",
       "</table>\n",
       "</div>"
      ],
      "text/plain": [
       "   pregnant  glucose    bp       skin  insulin   bmi  pedigree  age  Diabetic  \\\n",
       "0         1     85.0  66.0  29.000000    125.0  26.6     0.351   31         0   \n",
       "1         8    183.0  64.0  29.142593    125.0  23.3     0.672   32         1   \n",
       "2         1     89.0  66.0  23.000000     94.0  28.1     0.167   21         0   \n",
       "3         0    137.0  40.0  35.000000    168.0  43.1     2.288   33         1   \n",
       "4         5    116.0  74.0  29.142593    125.0  25.6     0.201   30         0   \n",
       "\n",
       "                    bin  \n",
       "0                Normal  \n",
       "1  Prediabetic or Risky  \n",
       "2                Normal  \n",
       "3                Normal  \n",
       "4                Normal  "
      ]
     },
     "execution_count": 5,
     "metadata": {},
     "output_type": "execute_result"
    }
   ],
   "source": [
    "check_glucose_level_data['bin'] = pd.cut(\n",
    "    check_glucose_level_data['glucose'],\n",
    "    bins=[0, 140, 199],\n",
    "    labels=['Normal', 'Prediabetic or Risky']\n",
    ")\n",
    "\n",
    "check_glucose_level_data.head()"
   ]
  },
  {
   "cell_type": "markdown",
   "metadata": {},
   "source": [
    "####  Show column values of glucose label and its corresponsing categorical value as created in bin"
   ]
  },
  {
   "cell_type": "code",
   "execution_count": 6,
   "metadata": {
    "id": "Ylv7Qv349hqA",
    "outputId": "2222c4b5-947e-415c-9208-b26ff9739eb7"
   },
   "outputs": [
    {
     "data": {
      "text/html": [
       "<div>\n",
       "<style scoped>\n",
       "    .dataframe tbody tr th:only-of-type {\n",
       "        vertical-align: middle;\n",
       "    }\n",
       "\n",
       "    .dataframe tbody tr th {\n",
       "        vertical-align: top;\n",
       "    }\n",
       "\n",
       "    .dataframe thead th {\n",
       "        text-align: right;\n",
       "    }\n",
       "</style>\n",
       "<table border=\"1\" class=\"dataframe\">\n",
       "  <thead>\n",
       "    <tr style=\"text-align: right;\">\n",
       "      <th></th>\n",
       "      <th>glucose</th>\n",
       "      <th>bin</th>\n",
       "    </tr>\n",
       "  </thead>\n",
       "  <tbody>\n",
       "    <tr>\n",
       "      <th>0</th>\n",
       "      <td>85.0</td>\n",
       "      <td>Normal</td>\n",
       "    </tr>\n",
       "    <tr>\n",
       "      <th>1</th>\n",
       "      <td>183.0</td>\n",
       "      <td>Prediabetic or Risky</td>\n",
       "    </tr>\n",
       "    <tr>\n",
       "      <th>2</th>\n",
       "      <td>89.0</td>\n",
       "      <td>Normal</td>\n",
       "    </tr>\n",
       "    <tr>\n",
       "      <th>3</th>\n",
       "      <td>137.0</td>\n",
       "      <td>Normal</td>\n",
       "    </tr>\n",
       "    <tr>\n",
       "      <th>4</th>\n",
       "      <td>116.0</td>\n",
       "      <td>Normal</td>\n",
       "    </tr>\n",
       "  </tbody>\n",
       "</table>\n",
       "</div>"
      ],
      "text/plain": [
       "   glucose                   bin\n",
       "0     85.0                Normal\n",
       "1    183.0  Prediabetic or Risky\n",
       "2     89.0                Normal\n",
       "3    137.0                Normal\n",
       "4    116.0                Normal"
      ]
     },
     "execution_count": 6,
     "metadata": {},
     "output_type": "execute_result"
    }
   ],
   "source": [
    "dta_frm = check_glucose_level_data[['glucose', 'bin']]\n",
    "dta_frm.head()"
   ]
  },
  {
   "cell_type": "markdown",
   "metadata": {
    "id": "R2Ep9rGq9hqB"
   },
   "source": [
    "#### Replace each glucose value with its correspoding categorical bin value"
   ]
  },
  {
   "cell_type": "code",
   "execution_count": 7,
   "metadata": {
    "id": "d-6Efjuh9hqC",
    "outputId": "43a15fd9-0d30-4337-8850-9b456284aa29"
   },
   "outputs": [
    {
     "data": {
      "text/html": [
       "<div>\n",
       "<style scoped>\n",
       "    .dataframe tbody tr th:only-of-type {\n",
       "        vertical-align: middle;\n",
       "    }\n",
       "\n",
       "    .dataframe tbody tr th {\n",
       "        vertical-align: top;\n",
       "    }\n",
       "\n",
       "    .dataframe thead th {\n",
       "        text-align: right;\n",
       "    }\n",
       "</style>\n",
       "<table border=\"1\" class=\"dataframe\">\n",
       "  <thead>\n",
       "    <tr style=\"text-align: right;\">\n",
       "      <th></th>\n",
       "      <th>pregnant</th>\n",
       "      <th>glucose</th>\n",
       "      <th>bp</th>\n",
       "      <th>skin</th>\n",
       "      <th>insulin</th>\n",
       "      <th>bmi</th>\n",
       "      <th>pedigree</th>\n",
       "      <th>age</th>\n",
       "      <th>Diabetic</th>\n",
       "      <th>bin</th>\n",
       "    </tr>\n",
       "  </thead>\n",
       "  <tbody>\n",
       "    <tr>\n",
       "      <th>0</th>\n",
       "      <td>1</td>\n",
       "      <td>Normal</td>\n",
       "      <td>66.0</td>\n",
       "      <td>29.000000</td>\n",
       "      <td>125.0</td>\n",
       "      <td>26.6</td>\n",
       "      <td>0.351</td>\n",
       "      <td>31</td>\n",
       "      <td>0</td>\n",
       "      <td>Normal</td>\n",
       "    </tr>\n",
       "    <tr>\n",
       "      <th>1</th>\n",
       "      <td>8</td>\n",
       "      <td>Prediabetic or Risky</td>\n",
       "      <td>64.0</td>\n",
       "      <td>29.142593</td>\n",
       "      <td>125.0</td>\n",
       "      <td>23.3</td>\n",
       "      <td>0.672</td>\n",
       "      <td>32</td>\n",
       "      <td>1</td>\n",
       "      <td>Prediabetic or Risky</td>\n",
       "    </tr>\n",
       "    <tr>\n",
       "      <th>2</th>\n",
       "      <td>1</td>\n",
       "      <td>Normal</td>\n",
       "      <td>66.0</td>\n",
       "      <td>23.000000</td>\n",
       "      <td>94.0</td>\n",
       "      <td>28.1</td>\n",
       "      <td>0.167</td>\n",
       "      <td>21</td>\n",
       "      <td>0</td>\n",
       "      <td>Normal</td>\n",
       "    </tr>\n",
       "    <tr>\n",
       "      <th>3</th>\n",
       "      <td>0</td>\n",
       "      <td>Normal</td>\n",
       "      <td>40.0</td>\n",
       "      <td>35.000000</td>\n",
       "      <td>168.0</td>\n",
       "      <td>43.1</td>\n",
       "      <td>2.288</td>\n",
       "      <td>33</td>\n",
       "      <td>1</td>\n",
       "      <td>Normal</td>\n",
       "    </tr>\n",
       "    <tr>\n",
       "      <th>4</th>\n",
       "      <td>5</td>\n",
       "      <td>Normal</td>\n",
       "      <td>74.0</td>\n",
       "      <td>29.142593</td>\n",
       "      <td>125.0</td>\n",
       "      <td>25.6</td>\n",
       "      <td>0.201</td>\n",
       "      <td>30</td>\n",
       "      <td>0</td>\n",
       "      <td>Normal</td>\n",
       "    </tr>\n",
       "  </tbody>\n",
       "</table>\n",
       "</div>"
      ],
      "text/plain": [
       "   pregnant               glucose    bp       skin  insulin   bmi  pedigree  \\\n",
       "0         1                Normal  66.0  29.000000    125.0  26.6     0.351   \n",
       "1         8  Prediabetic or Risky  64.0  29.142593    125.0  23.3     0.672   \n",
       "2         1                Normal  66.0  23.000000     94.0  28.1     0.167   \n",
       "3         0                Normal  40.0  35.000000    168.0  43.1     2.288   \n",
       "4         5                Normal  74.0  29.142593    125.0  25.6     0.201   \n",
       "\n",
       "   age  Diabetic                   bin  \n",
       "0   31         0                Normal  \n",
       "1   32         1  Prediabetic or Risky  \n",
       "2   21         0                Normal  \n",
       "3   33         1                Normal  \n",
       "4   30         0                Normal  "
      ]
     },
     "execution_count": 7,
     "metadata": {},
     "output_type": "execute_result"
    }
   ],
   "source": [
    "check_glucose_level_data['glucose'] = check_glucose_level_data['bin'].values\n",
    "check_glucose_level_data.head()"
   ]
  },
  {
   "cell_type": "markdown",
   "metadata": {
    "id": "sba62RYX9hqD"
   },
   "source": [
    "#### Drop bin column  from the dataframe `check_glucose_level_data` using (axis = 1,inplace =True) for column representation and store the modified content in the same dataframe respectively"
   ]
  },
  {
   "cell_type": "code",
   "execution_count": 8,
   "metadata": {
    "id": "4IFHLTtc9hqD",
    "outputId": "71e65448-6516-45b6-f208-4f954bbb20bf"
   },
   "outputs": [
    {
     "data": {
      "text/html": [
       "<div>\n",
       "<style scoped>\n",
       "    .dataframe tbody tr th:only-of-type {\n",
       "        vertical-align: middle;\n",
       "    }\n",
       "\n",
       "    .dataframe tbody tr th {\n",
       "        vertical-align: top;\n",
       "    }\n",
       "\n",
       "    .dataframe thead th {\n",
       "        text-align: right;\n",
       "    }\n",
       "</style>\n",
       "<table border=\"1\" class=\"dataframe\">\n",
       "  <thead>\n",
       "    <tr style=\"text-align: right;\">\n",
       "      <th></th>\n",
       "      <th>pregnant</th>\n",
       "      <th>glucose</th>\n",
       "      <th>bp</th>\n",
       "      <th>skin</th>\n",
       "      <th>insulin</th>\n",
       "      <th>bmi</th>\n",
       "      <th>pedigree</th>\n",
       "      <th>age</th>\n",
       "      <th>Diabetic</th>\n",
       "    </tr>\n",
       "  </thead>\n",
       "  <tbody>\n",
       "    <tr>\n",
       "      <th>0</th>\n",
       "      <td>1</td>\n",
       "      <td>Normal</td>\n",
       "      <td>66.0</td>\n",
       "      <td>29.000000</td>\n",
       "      <td>125.0</td>\n",
       "      <td>26.6</td>\n",
       "      <td>0.351</td>\n",
       "      <td>31</td>\n",
       "      <td>0</td>\n",
       "    </tr>\n",
       "    <tr>\n",
       "      <th>1</th>\n",
       "      <td>8</td>\n",
       "      <td>Prediabetic or Risky</td>\n",
       "      <td>64.0</td>\n",
       "      <td>29.142593</td>\n",
       "      <td>125.0</td>\n",
       "      <td>23.3</td>\n",
       "      <td>0.672</td>\n",
       "      <td>32</td>\n",
       "      <td>1</td>\n",
       "    </tr>\n",
       "    <tr>\n",
       "      <th>2</th>\n",
       "      <td>1</td>\n",
       "      <td>Normal</td>\n",
       "      <td>66.0</td>\n",
       "      <td>23.000000</td>\n",
       "      <td>94.0</td>\n",
       "      <td>28.1</td>\n",
       "      <td>0.167</td>\n",
       "      <td>21</td>\n",
       "      <td>0</td>\n",
       "    </tr>\n",
       "    <tr>\n",
       "      <th>3</th>\n",
       "      <td>0</td>\n",
       "      <td>Normal</td>\n",
       "      <td>40.0</td>\n",
       "      <td>35.000000</td>\n",
       "      <td>168.0</td>\n",
       "      <td>43.1</td>\n",
       "      <td>2.288</td>\n",
       "      <td>33</td>\n",
       "      <td>1</td>\n",
       "    </tr>\n",
       "    <tr>\n",
       "      <th>4</th>\n",
       "      <td>5</td>\n",
       "      <td>Normal</td>\n",
       "      <td>74.0</td>\n",
       "      <td>29.142593</td>\n",
       "      <td>125.0</td>\n",
       "      <td>25.6</td>\n",
       "      <td>0.201</td>\n",
       "      <td>30</td>\n",
       "      <td>0</td>\n",
       "    </tr>\n",
       "  </tbody>\n",
       "</table>\n",
       "</div>"
      ],
      "text/plain": [
       "   pregnant               glucose    bp       skin  insulin   bmi  pedigree  \\\n",
       "0         1                Normal  66.0  29.000000    125.0  26.6     0.351   \n",
       "1         8  Prediabetic or Risky  64.0  29.142593    125.0  23.3     0.672   \n",
       "2         1                Normal  66.0  23.000000     94.0  28.1     0.167   \n",
       "3         0                Normal  40.0  35.000000    168.0  43.1     2.288   \n",
       "4         5                Normal  74.0  29.142593    125.0  25.6     0.201   \n",
       "\n",
       "   age  Diabetic  \n",
       "0   31         0  \n",
       "1   32         1  \n",
       "2   21         0  \n",
       "3   33         1  \n",
       "4   30         0  "
      ]
     },
     "execution_count": 8,
     "metadata": {},
     "output_type": "execute_result"
    }
   ],
   "source": [
    "check_glucose_level_data.drop(['bin'], axis=1, inplace = True)\n",
    "check_glucose_level_data.head()"
   ]
  },
  {
   "cell_type": "markdown",
   "metadata": {
    "id": "uWkWHjDF9hqE"
   },
   "source": [
    "## Data Binarization"
   ]
  },
  {
   "cell_type": "markdown",
   "metadata": {
    "id": "TLOVv_Ad9hqF"
   },
   "source": [
    "#### One of the binarization method is: `One Hot Encoding`\n",
    "\n",
    "- Convert each category value into a new column and assign a 1 or 0 (True/False) value to the column\n",
    "- Use pandas\n",
    "  - pd.get_dummies(obj_df, columns=[\"   \"]) method to realize one hot encoding\n"
   ]
  },
  {
   "cell_type": "code",
   "execution_count": 9,
   "metadata": {
    "id": "uj_H-MRH9hqG",
    "outputId": "c0682b74-398c-4b0d-ab54-8bc8caebe3c9"
   },
   "outputs": [
    {
     "data": {
      "text/plain": [
       "glucose\n",
       "Normal                  576\n",
       "Prediabetic or Risky    191\n",
       "Name: count, dtype: int64"
      ]
     },
     "execution_count": 9,
     "metadata": {},
     "output_type": "execute_result"
    }
   ],
   "source": [
    "check_glucose_level_data.glucose.value_counts()"
   ]
  },
  {
   "cell_type": "markdown",
   "metadata": {
    "id": "aUZ-PcrF9hqG"
   },
   "source": [
    " code counts and returns normal and prediabetic patients in the glucose column based on categorical label. Below code then binarizes \"Normal\" as \"01\" and \"Prediabetic or Risky \" as \"10\"."
   ]
  },
  {
   "cell_type": "code",
   "execution_count": 10,
   "metadata": {
    "id": "CVgp8aWh9hqH",
    "outputId": "b78d1efb-069d-4c80-983c-c381859df70a"
   },
   "outputs": [
    {
     "data": {
      "text/html": [
       "<div>\n",
       "<style scoped>\n",
       "    .dataframe tbody tr th:only-of-type {\n",
       "        vertical-align: middle;\n",
       "    }\n",
       "\n",
       "    .dataframe tbody tr th {\n",
       "        vertical-align: top;\n",
       "    }\n",
       "\n",
       "    .dataframe thead th {\n",
       "        text-align: right;\n",
       "    }\n",
       "</style>\n",
       "<table border=\"1\" class=\"dataframe\">\n",
       "  <thead>\n",
       "    <tr style=\"text-align: right;\">\n",
       "      <th></th>\n",
       "      <th>Normal</th>\n",
       "      <th>Prediabetic or Risky</th>\n",
       "    </tr>\n",
       "  </thead>\n",
       "  <tbody>\n",
       "    <tr>\n",
       "      <th>0</th>\n",
       "      <td>True</td>\n",
       "      <td>False</td>\n",
       "    </tr>\n",
       "    <tr>\n",
       "      <th>1</th>\n",
       "      <td>False</td>\n",
       "      <td>True</td>\n",
       "    </tr>\n",
       "    <tr>\n",
       "      <th>2</th>\n",
       "      <td>True</td>\n",
       "      <td>False</td>\n",
       "    </tr>\n",
       "    <tr>\n",
       "      <th>3</th>\n",
       "      <td>True</td>\n",
       "      <td>False</td>\n",
       "    </tr>\n",
       "    <tr>\n",
       "      <th>4</th>\n",
       "      <td>True</td>\n",
       "      <td>False</td>\n",
       "    </tr>\n",
       "    <tr>\n",
       "      <th>...</th>\n",
       "      <td>...</td>\n",
       "      <td>...</td>\n",
       "    </tr>\n",
       "    <tr>\n",
       "      <th>762</th>\n",
       "      <td>True</td>\n",
       "      <td>False</td>\n",
       "    </tr>\n",
       "    <tr>\n",
       "      <th>763</th>\n",
       "      <td>True</td>\n",
       "      <td>False</td>\n",
       "    </tr>\n",
       "    <tr>\n",
       "      <th>764</th>\n",
       "      <td>True</td>\n",
       "      <td>False</td>\n",
       "    </tr>\n",
       "    <tr>\n",
       "      <th>765</th>\n",
       "      <td>True</td>\n",
       "      <td>False</td>\n",
       "    </tr>\n",
       "    <tr>\n",
       "      <th>766</th>\n",
       "      <td>True</td>\n",
       "      <td>False</td>\n",
       "    </tr>\n",
       "  </tbody>\n",
       "</table>\n",
       "<p>767 rows × 2 columns</p>\n",
       "</div>"
      ],
      "text/plain": [
       "     Normal  Prediabetic or Risky\n",
       "0      True                 False\n",
       "1     False                  True\n",
       "2      True                 False\n",
       "3      True                 False\n",
       "4      True                 False\n",
       "..      ...                   ...\n",
       "762    True                 False\n",
       "763    True                 False\n",
       "764    True                 False\n",
       "765    True                 False\n",
       "766    True                 False\n",
       "\n",
       "[767 rows x 2 columns]"
      ]
     },
     "execution_count": 10,
     "metadata": {},
     "output_type": "execute_result"
    }
   ],
   "source": [
    "pd.get_dummies(check_glucose_level_data.glucose)"
   ]
  },
  {
   "cell_type": "markdown",
   "metadata": {
    "id": "IWUE1pCE9hqH"
   },
   "source": [
    "## Feature Subset Selection\n",
    "\n",
    "It applies to those cases where most of the attributes/features are redundant or irrelevant in data sets and we don’t need all of them.\n",
    "\n",
    ">Filter Approach – Features to be included in subset are selected before the subset is fed into algo is run and is independent of the algorithm. In it a certain mathematical basis is used to evaluate the most promising sub features. Or if we want variability in the reduced feature set we select those features that are related in least way i.e. select attributes whose pairwise co-relation is as low as possible– eg Age and Dob have very high dependency on each other – don’t select both of them but DOB and Medical History may have low co-relation and you can choose this set of attributes having low co-relation out of these three ones. </b>\n",
    "\n",
    "## Filter Approach\n",
    "\n",
    "#### Below code shows an example of \"Filter Approach\" to attribute selection using CHI square test.\n",
    "\n",
    "In CHI Sqaure test we see the corerelation of each atrribute with the output attribute and attributes having high correaltion with target variable are selected.Here we select the first \"m\" attributes that are highy corelated with the output variable.\n"
   ]
  },
  {
   "cell_type": "code",
   "execution_count": 11,
   "metadata": {
    "id": "VUOIGRrz9hqI",
    "outputId": "6426aba3-d7c7-43fc-fcdc-315293acdc37"
   },
   "outputs": [
    {
     "name": "stdout",
     "output_type": "stream",
     "text": [
      "Input Feature: 0, Score: 110.72718\n",
      "Input Feature: 1, Score: 1413.68503\n",
      "Input Feature: 2, Score: 42.71539\n",
      "Input Feature: 3, Score: 93.44658\n",
      "Input Feature: 4, Score: 1698.96289\n",
      "Input Feature: 5, Score: 108.82932\n",
      "Input Feature: 6, Score: 5.35636\n",
      "Input Feature: 7, Score: 178.01076\n",
      "[[  1.   85.  125.   26.6  31. ]\n",
      " [  8.  183.  125.   23.3  32. ]\n",
      " [  1.   89.   94.   28.1  21. ]\n",
      " [  0.  137.  168.   43.1  33. ]\n",
      " [  5.  116.  125.   25.6  30. ]]\n"
     ]
    }
   ],
   "source": [
    "from sklearn.feature_selection import SelectKBest, chi2\n",
    "dbts_new = pd.read_csv('dataset/imputed_data_diabetes.csv')\n",
    "\n",
    "new_dtaset = dbts_new.values\n",
    "#  split the dataset into input and output variables.Since we are creating a subset of only the input or independent variables\n",
    "X = new_dtaset[:, 0:8]                  # select 8 input variables.\n",
    "Y = new_dtaset[:, 8]                  # select last  output variable\n",
    "# function to get first k = 5 highest chisqaured input feature scores\n",
    "test = SelectKBest(score_func=chi2, k=5)\n",
    "# Run score function on (X, Y) and get the appropriate features\n",
    "fit = test.fit(X, Y)\n",
    "\n",
    "# show all chisquared value/score for each input attribute\n",
    "for i, j in enumerate(fit.scores_):\n",
    "    print('Input Feature: %0d, Score: %.5f' % (i, j))\n",
    "\n",
    "\n",
    "# Reduce X input fetaures = (9 input fetaures) to highest chisquared input fetaures K = 5 in this dataset\n",
    "dbts_ftr_sbset = fit.transform(X)\n",
    "\n",
    "# summarize selected input features  value from the cleaned table after mean in this case\n",
    "print(dbts_ftr_sbset[0:5, :])"
   ]
  },
  {
   "cell_type": "markdown",
   "metadata": {
    "id": "eB_WHXb69hqJ"
   },
   "source": [
    "## Result Interpretation of the CHI Square score value\n",
    "\n",
    "From the chisquare test we found the following attributes are less corelated to the output variable \"diabetes\".\n",
    "\n",
    "- Feature: 2, Score: 42.71539 is \"bp\"\n",
    "- Feature: 3, Score: 93.44658 is \"skin\"\n",
    "- Feature: 6, Score: 5.35636  is \"Pedigree\"\n",
    "\n",
    "Hence we can reduce the 8 feature set {pregnant,glucose,bp,skin,insulin,bmi,pedigree,age} into 5 features as {pregnant,glucose,insulin,bmi,age} that's stuitable for the  learning algorithm.\n"
   ]
  }
 ],
 "metadata": {
  "colab": {
   "provenance": []
  },
  "kernelspec": {
   "display_name": ".venv",
   "language": "python",
   "name": "python3"
  },
  "language_info": {
   "codemirror_mode": {
    "name": "ipython",
    "version": 3
   },
   "file_extension": ".py",
   "mimetype": "text/x-python",
   "name": "python",
   "nbconvert_exporter": "python",
   "pygments_lexer": "ipython3",
   "version": "3.12.4"
  }
 },
 "nbformat": 4,
 "nbformat_minor": 0
}
