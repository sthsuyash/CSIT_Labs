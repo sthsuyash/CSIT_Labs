{
 "cells": [
  {
   "cell_type": "markdown",
   "metadata": {},
   "source": [
    "# Lab 2: Data Quality - Identify and Handle missing values"
   ]
  },
  {
   "cell_type": "markdown",
   "metadata": {},
   "source": [
    "## Data Quality:\n",
    "\n",
    "Data Quality refers to the condition of data based on factors like accuracy, completeness, consistency, and reliability. High-quality data is essential for accurate analysis and decision-making.\n",
    "\n",
    "## Issues with Data Quality\n",
    "\n",
    "Common problems include missing values, duplicates, inconsistencies, outliers, and errors in data entry or collection, leading to flawed analyses and incorrect conclusions.\n",
    "\n",
    "## Missing Values and Its Reasons\n",
    "\n",
    "Missing data occurs when no value is stored for a variable in a dataset. Reasons include human error, data corruption, non-response in surveys, or system failures during data collection.\n",
    "\n",
    "## Techniques to Deal with Missing Values\n",
    "   - **Remove Rows**: Delete rows with missing values (if minimal).\n",
    "   - **Imputation**: Replace missing values with mean, median, or mode.\n",
    "   - **Prediction Models**: Use algorithms to predict and fill in missing values.\n",
    "   - **Flagging**: Mark missing values as a separate category (for categorical data)."
   ]
  },
  {
   "cell_type": "markdown",
   "metadata": {},
   "source": [
    "----"
   ]
  },
  {
   "cell_type": "code",
   "execution_count": 1,
   "metadata": {
    "id": "iustiOFx8ZAl"
   },
   "outputs": [],
   "source": [
    "import pandas as pd\n",
    "import matplotlib.pyplot as plt\n",
    "import numpy as np\n",
    "import seaborn as sns"
   ]
  },
  {
   "cell_type": "code",
   "execution_count": 2,
   "metadata": {},
   "outputs": [],
   "source": [
    "DATASET_PATH = \"dataset/pima_diabetes.csv\""
   ]
  },
  {
   "cell_type": "code",
   "execution_count": 3,
   "metadata": {
    "id": "NPp5lMIH8ZAn",
    "outputId": "28f3dc3f-da4d-45fb-875a-0aedcd308658"
   },
   "outputs": [
    {
     "data": {
      "text/html": [
       "<div>\n",
       "<style scoped>\n",
       "    .dataframe tbody tr th:only-of-type {\n",
       "        vertical-align: middle;\n",
       "    }\n",
       "\n",
       "    .dataframe tbody tr th {\n",
       "        vertical-align: top;\n",
       "    }\n",
       "\n",
       "    .dataframe thead th {\n",
       "        text-align: right;\n",
       "    }\n",
       "</style>\n",
       "<table border=\"1\" class=\"dataframe\">\n",
       "  <thead>\n",
       "    <tr style=\"text-align: right;\">\n",
       "      <th></th>\n",
       "      <th>pregnant</th>\n",
       "      <th>glucose</th>\n",
       "      <th>bp</th>\n",
       "      <th>skin</th>\n",
       "      <th>insulin</th>\n",
       "      <th>bmi</th>\n",
       "      <th>pedigree</th>\n",
       "      <th>age</th>\n",
       "      <th>Diabetic</th>\n",
       "    </tr>\n",
       "  </thead>\n",
       "  <tbody>\n",
       "    <tr>\n",
       "      <th>0</th>\n",
       "      <td>1</td>\n",
       "      <td>85</td>\n",
       "      <td>66</td>\n",
       "      <td>29</td>\n",
       "      <td>0</td>\n",
       "      <td>26.6</td>\n",
       "      <td>0.351</td>\n",
       "      <td>31</td>\n",
       "      <td>0</td>\n",
       "    </tr>\n",
       "    <tr>\n",
       "      <th>1</th>\n",
       "      <td>8</td>\n",
       "      <td>183</td>\n",
       "      <td>64</td>\n",
       "      <td>0</td>\n",
       "      <td>0</td>\n",
       "      <td>23.3</td>\n",
       "      <td>0.672</td>\n",
       "      <td>32</td>\n",
       "      <td>1</td>\n",
       "    </tr>\n",
       "    <tr>\n",
       "      <th>2</th>\n",
       "      <td>1</td>\n",
       "      <td>89</td>\n",
       "      <td>66</td>\n",
       "      <td>23</td>\n",
       "      <td>94</td>\n",
       "      <td>28.1</td>\n",
       "      <td>0.167</td>\n",
       "      <td>21</td>\n",
       "      <td>0</td>\n",
       "    </tr>\n",
       "    <tr>\n",
       "      <th>3</th>\n",
       "      <td>0</td>\n",
       "      <td>137</td>\n",
       "      <td>40</td>\n",
       "      <td>35</td>\n",
       "      <td>168</td>\n",
       "      <td>43.1</td>\n",
       "      <td>2.288</td>\n",
       "      <td>33</td>\n",
       "      <td>1</td>\n",
       "    </tr>\n",
       "    <tr>\n",
       "      <th>4</th>\n",
       "      <td>5</td>\n",
       "      <td>116</td>\n",
       "      <td>74</td>\n",
       "      <td>0</td>\n",
       "      <td>0</td>\n",
       "      <td>25.6</td>\n",
       "      <td>0.201</td>\n",
       "      <td>30</td>\n",
       "      <td>0</td>\n",
       "    </tr>\n",
       "  </tbody>\n",
       "</table>\n",
       "</div>"
      ],
      "text/plain": [
       "   pregnant  glucose  bp  skin  insulin   bmi  pedigree  age  Diabetic\n",
       "0         1       85  66    29        0  26.6     0.351   31         0\n",
       "1         8      183  64     0        0  23.3     0.672   32         1\n",
       "2         1       89  66    23       94  28.1     0.167   21         0\n",
       "3         0      137  40    35      168  43.1     2.288   33         1\n",
       "4         5      116  74     0        0  25.6     0.201   30         0"
      ]
     },
     "execution_count": 3,
     "metadata": {},
     "output_type": "execute_result"
    }
   ],
   "source": [
    "col_names = ['pregnant', 'glucose', 'bp', 'skin', 'insulin', 'bmi', 'pedigree', 'age', 'Diabetic']\n",
    "df= pd.read_csv(DATASET_PATH, header=0, names=col_names)\n",
    "df.head()"
   ]
  },
  {
   "cell_type": "markdown",
   "metadata": {
    "id": "bfKvb76a8ZAo"
   },
   "source": [
    "#### Identify duplicate values in a dataset\n",
    "\n",
    "- using `duplicated()` function to identify duplicate rows in a dataset.\n",
    "    - True for duplicate\n",
    "    - false for unique rows. \n",
    "    \n",
    "    If two or more rows refers to identical objects and the attribute vaue are exaclty similar then we can simply remove the duplicated rows.\n",
    "\n",
    "- using `duplicated().sum()` function to count the number of duplicate rows in a dataset."
   ]
  },
  {
   "cell_type": "code",
   "execution_count": 4,
   "metadata": {
    "id": "kA7TNxV_8ZAo",
    "outputId": "f28ed07e-802d-4e86-a6c3-280035adb784"
   },
   "outputs": [
    {
     "data": {
      "text/plain": [
       "np.int64(0)"
      ]
     },
     "execution_count": 4,
     "metadata": {},
     "output_type": "execute_result"
    }
   ],
   "source": [
    "df.duplicated().sum()"
   ]
  },
  {
   "cell_type": "markdown",
   "metadata": {
    "id": "gvLV--h08ZAp"
   },
   "source": [
    "Since, the sum of the duplicated rows is 0, we can say that there are no duplicate rows in the dataset."
   ]
  },
  {
   "cell_type": "markdown",
   "metadata": {
    "id": "6GrgrxaA8ZAp"
   },
   "source": [
    "## Identify Missing values in a dataset\n",
    "\n",
    "#### First Identify the spots in the dataset where missing values are present:\n",
    "\n",
    "- Mark missing values as \"NaN\" in  rows or columns of the dataset. \n",
    "  - Sum, count etc operations ignores NAN values. By using the `replace()` function of Pandas DataFrame we can mark the  missing values as \"NAN\" in each columns.\n",
    "\n",
    "- Then we can use \"isnull()\" function to mark  all \"NAN\" values in the dataset as True and based on it we can count total number of missing values in each column. Then replace \"0\"  with \"NAN\""
   ]
  },
  {
   "cell_type": "code",
   "execution_count": 5,
   "metadata": {
    "id": "KR5rmM_q8ZAp",
    "outputId": "ddaf6180-ccd1-4f9c-d120-79bf83b1a79e"
   },
   "outputs": [
    {
     "name": "stdout",
     "output_type": "stream",
     "text": [
      "The table below shows we marked the feature value from glucose to bmi as NAN in missing fields in PIMA_NEW dataset\n",
      "pregnant      0\n",
      "glucose       5\n",
      "bp           35\n",
      "skin        227\n",
      "insulin     373\n",
      "bmi          11\n",
      "pedigree      0\n",
      "age           0\n",
      "Diabetic      0\n",
      "dtype: int64\n"
     ]
    }
   ],
   "source": [
    "df_new = df.copy(deep=True) \n",
    "# deep copy of the dataset means that a new copy of the data is made and any changes made to the new copy will not affect the original data\n",
    "df_new[['glucose', 'bp', 'skin', 'insulin', 'bmi']] = df_new[['glucose', 'bp', 'skin', 'insulin', 'bmi']].replace(0, np.nan)\n",
    "\n",
    "print(\"The table below shows we marked the feature value from glucose to bmi as NAN in missing fields in PIMA_NEW dataset\")\n",
    "print(df_new.isnull().sum())"
   ]
  },
  {
   "cell_type": "code",
   "execution_count": 6,
   "metadata": {
    "id": "NeY9xHkx8ZAq",
    "outputId": "45485310-3ab4-42a0-cf83-e1343c428267"
   },
   "outputs": [
    {
     "name": "stdout",
     "output_type": "stream",
     "text": [
      "   pregnant  glucose    bp  skin  insulin   bmi  pedigree  age  Diabetic\n",
      "0         1     85.0  66.0  29.0      NaN  26.6     0.351   31         0\n",
      "1         8    183.0  64.0   NaN      NaN  23.3     0.672   32         1\n",
      "2         1     89.0  66.0  23.0     94.0  28.1     0.167   21         0\n",
      "3         0    137.0  40.0  35.0    168.0  43.1     2.288   33         1\n",
      "4         5    116.0  74.0   NaN      NaN  25.6     0.201   30         0\n"
     ]
    }
   ],
   "source": [
    "print(df_new.head())"
   ]
  },
  {
   "cell_type": "markdown",
   "metadata": {
    "id": "-cyKTjZ98ZAq"
   },
   "source": [
    "## Handle Missing values\n",
    "\n",
    "There are many ways to deal with missing values. But the goal is whatever approach we take, our decision must be accurate or as close to accuracy as if there were real data values in the missing part."
   ]
  },
  {
   "cell_type": "markdown",
   "metadata": {
    "id": "bP9zTxuO8ZAq"
   },
   "source": [
    "#### 1. Eliminate rows containing missing values\n",
    "\n",
    "Though this approach is not suitable in many practical cases, it is preferred if only a few rows (that represents each object in a data set) have missing values. However its impractical to remove the rows when most records are missing.   "
   ]
  },
  {
   "cell_type": "markdown",
   "metadata": {
    "id": "W1_VqELQ8ZAq"
   },
   "source": [
    "> For eliminating rows with missing values use \"object.dropna()\" method but it requires all missing values to be replaced by \"NAN\" first which we have already done previously."
   ]
  },
  {
   "cell_type": "code",
   "execution_count": 7,
   "metadata": {
    "id": "w9eueWmr8ZAr",
    "outputId": "d23ea73c-7ada-4cbb-e76c-3d2cbd47238c"
   },
   "outputs": [
    {
     "data": {
      "text/html": [
       "<div>\n",
       "<style scoped>\n",
       "    .dataframe tbody tr th:only-of-type {\n",
       "        vertical-align: middle;\n",
       "    }\n",
       "\n",
       "    .dataframe tbody tr th {\n",
       "        vertical-align: top;\n",
       "    }\n",
       "\n",
       "    .dataframe thead th {\n",
       "        text-align: right;\n",
       "    }\n",
       "</style>\n",
       "<table border=\"1\" class=\"dataframe\">\n",
       "  <thead>\n",
       "    <tr style=\"text-align: right;\">\n",
       "      <th></th>\n",
       "      <th>pregnant</th>\n",
       "      <th>glucose</th>\n",
       "      <th>bp</th>\n",
       "      <th>skin</th>\n",
       "      <th>insulin</th>\n",
       "      <th>bmi</th>\n",
       "      <th>pedigree</th>\n",
       "      <th>age</th>\n",
       "      <th>Diabetic</th>\n",
       "    </tr>\n",
       "  </thead>\n",
       "  <tbody>\n",
       "    <tr>\n",
       "      <th>0</th>\n",
       "      <td>1</td>\n",
       "      <td>85.0</td>\n",
       "      <td>66.0</td>\n",
       "      <td>29.0</td>\n",
       "      <td>NaN</td>\n",
       "      <td>26.6</td>\n",
       "      <td>0.351</td>\n",
       "      <td>31</td>\n",
       "      <td>0</td>\n",
       "    </tr>\n",
       "    <tr>\n",
       "      <th>1</th>\n",
       "      <td>8</td>\n",
       "      <td>183.0</td>\n",
       "      <td>64.0</td>\n",
       "      <td>NaN</td>\n",
       "      <td>NaN</td>\n",
       "      <td>23.3</td>\n",
       "      <td>0.672</td>\n",
       "      <td>32</td>\n",
       "      <td>1</td>\n",
       "    </tr>\n",
       "    <tr>\n",
       "      <th>2</th>\n",
       "      <td>1</td>\n",
       "      <td>89.0</td>\n",
       "      <td>66.0</td>\n",
       "      <td>23.0</td>\n",
       "      <td>94.0</td>\n",
       "      <td>28.1</td>\n",
       "      <td>0.167</td>\n",
       "      <td>21</td>\n",
       "      <td>0</td>\n",
       "    </tr>\n",
       "    <tr>\n",
       "      <th>3</th>\n",
       "      <td>0</td>\n",
       "      <td>137.0</td>\n",
       "      <td>40.0</td>\n",
       "      <td>35.0</td>\n",
       "      <td>168.0</td>\n",
       "      <td>43.1</td>\n",
       "      <td>2.288</td>\n",
       "      <td>33</td>\n",
       "      <td>1</td>\n",
       "    </tr>\n",
       "    <tr>\n",
       "      <th>4</th>\n",
       "      <td>5</td>\n",
       "      <td>116.0</td>\n",
       "      <td>74.0</td>\n",
       "      <td>NaN</td>\n",
       "      <td>NaN</td>\n",
       "      <td>25.6</td>\n",
       "      <td>0.201</td>\n",
       "      <td>30</td>\n",
       "      <td>0</td>\n",
       "    </tr>\n",
       "  </tbody>\n",
       "</table>\n",
       "</div>"
      ],
      "text/plain": [
       "   pregnant  glucose    bp  skin  insulin   bmi  pedigree  age  Diabetic\n",
       "0         1     85.0  66.0  29.0      NaN  26.6     0.351   31         0\n",
       "1         8    183.0  64.0   NaN      NaN  23.3     0.672   32         1\n",
       "2         1     89.0  66.0  23.0     94.0  28.1     0.167   21         0\n",
       "3         0    137.0  40.0  35.0    168.0  43.1     2.288   33         1\n",
       "4         5    116.0  74.0   NaN      NaN  25.6     0.201   30         0"
      ]
     },
     "execution_count": 7,
     "metadata": {},
     "output_type": "execute_result"
    }
   ],
   "source": [
    "df[['glucose','bp','skin','insulin','bmi']] = df[['glucose','bp','skin','insulin','bmi']].replace(0, np.nan)\n",
    "df.head()"
   ]
  },
  {
   "cell_type": "code",
   "execution_count": 8,
   "metadata": {
    "id": "Z6LPQr7Q8ZAr",
    "outputId": "0a5153bc-36d0-44f6-fb34-4d6fa3854369"
   },
   "outputs": [
    {
     "data": {
      "text/html": [
       "<div>\n",
       "<style scoped>\n",
       "    .dataframe tbody tr th:only-of-type {\n",
       "        vertical-align: middle;\n",
       "    }\n",
       "\n",
       "    .dataframe tbody tr th {\n",
       "        vertical-align: top;\n",
       "    }\n",
       "\n",
       "    .dataframe thead th {\n",
       "        text-align: right;\n",
       "    }\n",
       "</style>\n",
       "<table border=\"1\" class=\"dataframe\">\n",
       "  <thead>\n",
       "    <tr style=\"text-align: right;\">\n",
       "      <th></th>\n",
       "      <th>pregnant</th>\n",
       "      <th>glucose</th>\n",
       "      <th>bp</th>\n",
       "      <th>skin</th>\n",
       "      <th>insulin</th>\n",
       "      <th>bmi</th>\n",
       "      <th>pedigree</th>\n",
       "      <th>age</th>\n",
       "      <th>Diabetic</th>\n",
       "    </tr>\n",
       "  </thead>\n",
       "  <tbody>\n",
       "    <tr>\n",
       "      <th>2</th>\n",
       "      <td>1</td>\n",
       "      <td>89.0</td>\n",
       "      <td>66.0</td>\n",
       "      <td>23.0</td>\n",
       "      <td>94.0</td>\n",
       "      <td>28.1</td>\n",
       "      <td>0.167</td>\n",
       "      <td>21</td>\n",
       "      <td>0</td>\n",
       "    </tr>\n",
       "    <tr>\n",
       "      <th>3</th>\n",
       "      <td>0</td>\n",
       "      <td>137.0</td>\n",
       "      <td>40.0</td>\n",
       "      <td>35.0</td>\n",
       "      <td>168.0</td>\n",
       "      <td>43.1</td>\n",
       "      <td>2.288</td>\n",
       "      <td>33</td>\n",
       "      <td>1</td>\n",
       "    </tr>\n",
       "    <tr>\n",
       "      <th>5</th>\n",
       "      <td>3</td>\n",
       "      <td>78.0</td>\n",
       "      <td>50.0</td>\n",
       "      <td>32.0</td>\n",
       "      <td>88.0</td>\n",
       "      <td>31.0</td>\n",
       "      <td>0.248</td>\n",
       "      <td>26</td>\n",
       "      <td>1</td>\n",
       "    </tr>\n",
       "    <tr>\n",
       "      <th>7</th>\n",
       "      <td>2</td>\n",
       "      <td>197.0</td>\n",
       "      <td>70.0</td>\n",
       "      <td>45.0</td>\n",
       "      <td>543.0</td>\n",
       "      <td>30.5</td>\n",
       "      <td>0.158</td>\n",
       "      <td>53</td>\n",
       "      <td>1</td>\n",
       "    </tr>\n",
       "    <tr>\n",
       "      <th>12</th>\n",
       "      <td>1</td>\n",
       "      <td>189.0</td>\n",
       "      <td>60.0</td>\n",
       "      <td>23.0</td>\n",
       "      <td>846.0</td>\n",
       "      <td>30.1</td>\n",
       "      <td>0.398</td>\n",
       "      <td>59</td>\n",
       "      <td>1</td>\n",
       "    </tr>\n",
       "  </tbody>\n",
       "</table>\n",
       "</div>"
      ],
      "text/plain": [
       "    pregnant  glucose    bp  skin  insulin   bmi  pedigree  age  Diabetic\n",
       "2          1     89.0  66.0  23.0     94.0  28.1     0.167   21         0\n",
       "3          0    137.0  40.0  35.0    168.0  43.1     2.288   33         1\n",
       "5          3     78.0  50.0  32.0     88.0  31.0     0.248   26         1\n",
       "7          2    197.0  70.0  45.0    543.0  30.5     0.158   53         1\n",
       "12         1    189.0  60.0  23.0    846.0  30.1     0.398   59         1"
      ]
     },
     "execution_count": 8,
     "metadata": {},
     "output_type": "execute_result"
    }
   ],
   "source": [
    "clean_data  = df.dropna()  # eliminate rows containing missing values\n",
    "clean_data.head()"
   ]
  },
  {
   "cell_type": "code",
   "execution_count": 9,
   "metadata": {
    "id": "JFrpw-H98ZAr",
    "outputId": "dd040595-1d5f-4895-e529-66d50a2bbd47"
   },
   "outputs": [
    {
     "data": {
      "text/plain": [
       "(392, 9)"
      ]
     },
     "execution_count": 9,
     "metadata": {},
     "output_type": "execute_result"
    }
   ],
   "source": [
    "clean_data.shape  ## now the daatset contains only 392 samples"
   ]
  },
  {
   "cell_type": "markdown",
   "metadata": {
    "id": "XFUonnlK8ZAs"
   },
   "source": [
    "#### 2. Replace missing values with a test statistic\n",
    "\n",
    "Missing values can be replaced by mean, median, quartiles or based on the type and nature of attribute values i.e whether the attribute or the column data is continuous, categorical or the similarity values of the observed data. \n",
    "\n",
    "It is also equally important to take into account the effect on accuracy of the learning algorithm based on the imputation approach.\n",
    "\n",
    "<font color = green>From the histogram of exploratory data analysis, \"glucose\", \"bmi\", \"skin\" features are normally distributed  so we replace mean value in the missing elelemnt part while  \"insulin\" and \"bp\" are skewed so we replace meadian value in the missing part.  </font>\n",
    "##### Filling the mean and median value  according to corresponding histogram distribution in the missing part  using fillna() method"
   ]
  },
  {
   "cell_type": "markdown",
   "metadata": {
    "id": "OIgzilv48ZAs"
   },
   "source": [
    "#### Impute missing values through measures of central tendency based on feature histogram of lab 1 EDA"
   ]
  },
  {
   "cell_type": "code",
   "execution_count": 10,
   "metadata": {
    "id": "7zLcSTKd8ZAs"
   },
   "outputs": [],
   "source": [
    "df_new.fillna({\n",
    "    \"glucose\": df_new['glucose'].mean(),\n",
    "    \"bp\": df_new['bp'].median(),\n",
    "\n",
    "    \"skin\": df_new['skin'].mean(),\n",
    "    \"insulin\": df_new['insulin'].median(),\n",
    "\n",
    "    \"bmi\": df_new['bmi'].median()\n",
    "}, inplace=True)"
   ]
  },
  {
   "cell_type": "code",
   "execution_count": 11,
   "metadata": {
    "id": "EFR1SE9S8ZAs",
    "outputId": "f7480ebf-3c8f-4255-cdec-beae48602db6"
   },
   "outputs": [
    {
     "data": {
      "text/html": [
       "<div>\n",
       "<style scoped>\n",
       "    .dataframe tbody tr th:only-of-type {\n",
       "        vertical-align: middle;\n",
       "    }\n",
       "\n",
       "    .dataframe tbody tr th {\n",
       "        vertical-align: top;\n",
       "    }\n",
       "\n",
       "    .dataframe thead th {\n",
       "        text-align: right;\n",
       "    }\n",
       "</style>\n",
       "<table border=\"1\" class=\"dataframe\">\n",
       "  <thead>\n",
       "    <tr style=\"text-align: right;\">\n",
       "      <th></th>\n",
       "      <th>pregnant</th>\n",
       "      <th>glucose</th>\n",
       "      <th>bp</th>\n",
       "      <th>skin</th>\n",
       "      <th>insulin</th>\n",
       "      <th>bmi</th>\n",
       "      <th>pedigree</th>\n",
       "      <th>age</th>\n",
       "      <th>Diabetic</th>\n",
       "    </tr>\n",
       "  </thead>\n",
       "  <tbody>\n",
       "    <tr>\n",
       "      <th>0</th>\n",
       "      <td>1</td>\n",
       "      <td>85.0</td>\n",
       "      <td>66.0</td>\n",
       "      <td>29.000000</td>\n",
       "      <td>125.0</td>\n",
       "      <td>26.6</td>\n",
       "      <td>0.351</td>\n",
       "      <td>31</td>\n",
       "      <td>0</td>\n",
       "    </tr>\n",
       "    <tr>\n",
       "      <th>1</th>\n",
       "      <td>8</td>\n",
       "      <td>183.0</td>\n",
       "      <td>64.0</td>\n",
       "      <td>29.142593</td>\n",
       "      <td>125.0</td>\n",
       "      <td>23.3</td>\n",
       "      <td>0.672</td>\n",
       "      <td>32</td>\n",
       "      <td>1</td>\n",
       "    </tr>\n",
       "    <tr>\n",
       "      <th>2</th>\n",
       "      <td>1</td>\n",
       "      <td>89.0</td>\n",
       "      <td>66.0</td>\n",
       "      <td>23.000000</td>\n",
       "      <td>94.0</td>\n",
       "      <td>28.1</td>\n",
       "      <td>0.167</td>\n",
       "      <td>21</td>\n",
       "      <td>0</td>\n",
       "    </tr>\n",
       "    <tr>\n",
       "      <th>3</th>\n",
       "      <td>0</td>\n",
       "      <td>137.0</td>\n",
       "      <td>40.0</td>\n",
       "      <td>35.000000</td>\n",
       "      <td>168.0</td>\n",
       "      <td>43.1</td>\n",
       "      <td>2.288</td>\n",
       "      <td>33</td>\n",
       "      <td>1</td>\n",
       "    </tr>\n",
       "    <tr>\n",
       "      <th>4</th>\n",
       "      <td>5</td>\n",
       "      <td>116.0</td>\n",
       "      <td>74.0</td>\n",
       "      <td>29.142593</td>\n",
       "      <td>125.0</td>\n",
       "      <td>25.6</td>\n",
       "      <td>0.201</td>\n",
       "      <td>30</td>\n",
       "      <td>0</td>\n",
       "    </tr>\n",
       "    <tr>\n",
       "      <th>...</th>\n",
       "      <td>...</td>\n",
       "      <td>...</td>\n",
       "      <td>...</td>\n",
       "      <td>...</td>\n",
       "      <td>...</td>\n",
       "      <td>...</td>\n",
       "      <td>...</td>\n",
       "      <td>...</td>\n",
       "      <td>...</td>\n",
       "    </tr>\n",
       "    <tr>\n",
       "      <th>762</th>\n",
       "      <td>10</td>\n",
       "      <td>101.0</td>\n",
       "      <td>76.0</td>\n",
       "      <td>48.000000</td>\n",
       "      <td>180.0</td>\n",
       "      <td>32.9</td>\n",
       "      <td>0.171</td>\n",
       "      <td>63</td>\n",
       "      <td>0</td>\n",
       "    </tr>\n",
       "    <tr>\n",
       "      <th>763</th>\n",
       "      <td>2</td>\n",
       "      <td>122.0</td>\n",
       "      <td>70.0</td>\n",
       "      <td>27.000000</td>\n",
       "      <td>125.0</td>\n",
       "      <td>36.8</td>\n",
       "      <td>0.340</td>\n",
       "      <td>27</td>\n",
       "      <td>0</td>\n",
       "    </tr>\n",
       "    <tr>\n",
       "      <th>764</th>\n",
       "      <td>5</td>\n",
       "      <td>121.0</td>\n",
       "      <td>72.0</td>\n",
       "      <td>23.000000</td>\n",
       "      <td>112.0</td>\n",
       "      <td>26.2</td>\n",
       "      <td>0.245</td>\n",
       "      <td>30</td>\n",
       "      <td>0</td>\n",
       "    </tr>\n",
       "    <tr>\n",
       "      <th>765</th>\n",
       "      <td>1</td>\n",
       "      <td>126.0</td>\n",
       "      <td>60.0</td>\n",
       "      <td>29.142593</td>\n",
       "      <td>125.0</td>\n",
       "      <td>30.1</td>\n",
       "      <td>0.349</td>\n",
       "      <td>47</td>\n",
       "      <td>1</td>\n",
       "    </tr>\n",
       "    <tr>\n",
       "      <th>766</th>\n",
       "      <td>1</td>\n",
       "      <td>93.0</td>\n",
       "      <td>70.0</td>\n",
       "      <td>31.000000</td>\n",
       "      <td>125.0</td>\n",
       "      <td>30.4</td>\n",
       "      <td>0.315</td>\n",
       "      <td>23</td>\n",
       "      <td>0</td>\n",
       "    </tr>\n",
       "  </tbody>\n",
       "</table>\n",
       "<p>767 rows × 9 columns</p>\n",
       "</div>"
      ],
      "text/plain": [
       "     pregnant  glucose    bp       skin  insulin   bmi  pedigree  age  \\\n",
       "0           1     85.0  66.0  29.000000    125.0  26.6     0.351   31   \n",
       "1           8    183.0  64.0  29.142593    125.0  23.3     0.672   32   \n",
       "2           1     89.0  66.0  23.000000     94.0  28.1     0.167   21   \n",
       "3           0    137.0  40.0  35.000000    168.0  43.1     2.288   33   \n",
       "4           5    116.0  74.0  29.142593    125.0  25.6     0.201   30   \n",
       "..        ...      ...   ...        ...      ...   ...       ...  ...   \n",
       "762        10    101.0  76.0  48.000000    180.0  32.9     0.171   63   \n",
       "763         2    122.0  70.0  27.000000    125.0  36.8     0.340   27   \n",
       "764         5    121.0  72.0  23.000000    112.0  26.2     0.245   30   \n",
       "765         1    126.0  60.0  29.142593    125.0  30.1     0.349   47   \n",
       "766         1     93.0  70.0  31.000000    125.0  30.4     0.315   23   \n",
       "\n",
       "     Diabetic  \n",
       "0           0  \n",
       "1           1  \n",
       "2           0  \n",
       "3           1  \n",
       "4           0  \n",
       "..        ...  \n",
       "762         0  \n",
       "763         0  \n",
       "764         0  \n",
       "765         1  \n",
       "766         0  \n",
       "\n",
       "[767 rows x 9 columns]"
      ]
     },
     "execution_count": 11,
     "metadata": {},
     "output_type": "execute_result"
    }
   ],
   "source": [
    "df_new   # show newly imputed values in corresponsing misisng place as a result of above code"
   ]
  },
  {
   "cell_type": "markdown",
   "metadata": {
    "id": "yyzPJiw78ZAt"
   },
   "source": [
    "## Save cleaned dataset"
   ]
  },
  {
   "cell_type": "code",
   "execution_count": 12,
   "metadata": {
    "id": "rv9S82ml8ZAt"
   },
   "outputs": [],
   "source": [
    "OUTPUT_PATH = \"dataset/imputed_data_diabetes.csv\"\n",
    "\n",
    "df_new.to_csv(OUTPUT_PATH, index=False)"
   ]
  }
 ],
 "metadata": {
  "colab": {
   "provenance": []
  },
  "kernelspec": {
   "display_name": ".venv",
   "language": "python",
   "name": "python3"
  },
  "language_info": {
   "codemirror_mode": {
    "name": "ipython",
    "version": 3
   },
   "file_extension": ".py",
   "mimetype": "text/x-python",
   "name": "python",
   "nbconvert_exporter": "python",
   "pygments_lexer": "ipython3",
   "version": "3.12.4"
  }
 },
 "nbformat": 4,
 "nbformat_minor": 0
}
